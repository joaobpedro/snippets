{
 "cells": [
  {
   "cell_type": "code",
   "execution_count": 8,
   "metadata": {},
   "outputs": [],
   "source": [
    "import pandas as pd\n",
    "from OrcFxAPI import*\n",
    "import numpy as np\n",
    "import matplotlib.pyplot as plt\n",
    "from dataclasses import dataclass"
   ]
  },
  {
   "cell_type": "code",
   "execution_count": null,
   "metadata": {},
   "outputs": [],
   "source": [
    "#get umbilical information\n",
    "umb_OD = 0.215 #m\n",
    "umb_EA = 773   #MN\n",
    "E_Mod = 200e3 #MPA"
   ]
  },
  {
   "cell_type": "code",
   "execution_count": null,
   "metadata": {},
   "outputs": [],
   "source": [
    "#get tube data\n",
    "SMYS = 620 #MPa\n",
    "tube_ID = 0.0381 #m\n",
    "wall_thickness = 0.004 #m\n",
    "\n",
    "p_i = 68.9 #MPA\n",
    "p_o = 0.0  #MPA\n",
    "\n",
    "tube_OD = tube_ID + 2.0*wall_thickness"
   ]
  },
  {
   "cell_type": "code",
   "execution_count": null,
   "metadata": {},
   "outputs": [],
   "source": [
    "#project specific data\n",
    "wd = 1790 #m\n",
    "condition = \"Normal\" #possible values: \"Normal\" or \"Abnormal\"\n",
    "\n",
    "if condition == \"Normal\":\n",
    "    tau = 0.8\n",
    "elif condition == \"Abnormal\":\n",
    "    tau = 1.0"
   ]
  },
  {
   "cell_type": "code",
   "execution_count": 43,
   "metadata": {},
   "outputs": [],
   "source": [
    "@dataclass\n",
    "class Field:\n",
    "    \"\"\" class to store field properties like depth \"\"\"\n",
    "    name:float = \"Yellowtail\"\n",
    "    wd:float = 1790\n",
    "    fpso:str = \"One Guayana\"\n",
    "    numb_umbilicals:float = 3.0\n",
    "\n",
    "\n",
    "@dataclass\n",
    "class umb:\n",
    "    \"\"\" class to define umbilical properties \"\"\"\n",
    "    name:str = \"Umb 1 Yellowtail, static part\"\n",
    "    od:float = 0.215\n",
    "    ea:float = 773.0\n",
    "    e_mod:float = 200e3\n",
    "\n",
    "\n",
    "@dataclass\n",
    "class tube:\n",
    "    \"\"\" class to define the tube properties\"\"\"\n",
    "    name:str = '2.5in tube'\n",
    "    id:float = 0.0381\n",
    "    od:float = 0.0381 + 2*0.004\n",
    "    wt:float = 0.004\n",
    "    pi:float = 68.9\n",
    "    po:float = 0.0\n"
   ]
  },
  {
   "cell_type": "code",
   "execution_count": 70,
   "metadata": {},
   "outputs": [
    {
     "data": {
      "text/plain": [
       "38.809831824062094"
      ]
     },
     "execution_count": 70,
     "metadata": {},
     "output_type": "execute_result"
    }
   ],
   "source": [
    "### defining the stress class\n",
    "class stress():\n",
    "    \"\"\" class to calculate stresses \"\"\"\n",
    "\n",
    "    def __init__(self, umb, tube):\n",
    "        \"\"\" load the tube and umbilical classes to the stress class upon creation \"\"\"\n",
    "        self.tube = tube\n",
    "        self.umb = umb\n",
    "        \n",
    "        # self.mbr = mbr\n",
    "        # self.tens = tens\n",
    "\n",
    "    #end cap stress\n",
    "    def stress_aec(self) -> float:\n",
    "        \"\"\" calculates the end cap stress, not dependent on the tension vs MBR values \"\"\"\n",
    "        return ((self.tube.pi-self.tube.po)*(self.tube.od-2.0*self.tube.wt)**2) / (self.tube.od**2 - (self.tube.od - 2*self.tube.wt)**2)\n",
    "\n",
    "    def stress_at(self, tens) -> float:\n",
    "        \"\"\" calculates the stress due to tensile loads \"\"\"\n",
    "        return (self.umb.e_mod * 0.001 * tens/self.umb.ea)\n",
    "\n",
    "tube1 = tube()\n",
    "umb1 = umb()\n",
    "tube1.pi = 150\n",
    "stress1 = stress(umb1,tube1)\n",
    "\n",
    "stress1.stress_aec()\n",
    "stress1.stress_at(150)"
   ]
  },
  {
   "cell_type": "code",
   "execution_count": 5,
   "metadata": {},
   "outputs": [],
   "source": [
    "#STRESS FUNCTIONS\n",
    "\n",
    "\n",
    "#end cap stress\n",
    "def stress_aec() -> float:\n",
    "    \"\"\" calculates the end cap stress, not dependent on the tension vs MBR values \"\"\"\n",
    "    return ((p_i-p_o)*(tube_OD-2.0*wall_thickness)**2) / (tube_OD**2 - (tube_OD - 2*wall_thickness)**2)\n",
    "\n",
    "\n",
    "#stress due to tensile loads\n",
    "def stress_at(tens) -> float:\n",
    "    \"\"\" calculates the stress due to tensile loads \"\"\"\n",
    "    return (E_Mod * 0.001 * tens/umb_EA)\n",
    "\n",
    "\n",
    "# INSIDE WALL\n",
    "# stress inside the wall\n",
    "def stress_bi(mbr) -> float:\n",
    "    \"\"\" Calculates the stress due to bending inside the wall of the tube \"\"\"\n",
    "    return (E_Mod * (0.5 * tube_ID) / mbr)\n",
    "\n",
    "\n",
    "#hoop stress inside the wall\n",
    "def stress_hi() -> float:\n",
    "    \"\"\" calculates teh hoop stress inside the wall \"\"\"\n",
    "    return (((p_i - p_o)*(tube_OD**2.0 + tube_ID**2.0)) / (tube_OD**2.0 - tube_ID**2.0)-p_o)\n",
    "\n",
    "\n",
    "#radial strees inside the wall\n",
    "def stress_ri() -> float:\n",
    "    \"\"\" Calculates the radial stress inside the wall \"\"\"\n",
    "    return -p_i\n",
    "\n",
    "\n",
    "#total axial stress inside\n",
    "def total_axial_stress_inside(mbr, tens) -> float:\n",
    "    \"\"\" Caculates the total axial stress inside the wall \"\"\"\n",
    "    return stress_aec() + stress_at(tens) + stress_bi(mbr)\n",
    "\n",
    "#equivalent stress inside\n",
    "def stress_eqi(mbr, tens) -> float:\n",
    "    \"\"\" Calculates the inside equivalent stress \"\"\"\n",
    "    return np.sqrt((stress_hi()-total_axial_stress_inside(mbr,tens))**2.0 + (total_axial_stress_inside(mbr,tens)-stress_ri())**2.0 + (stress_ri() - stress_hi())**2.0) / np.sqrt(2.0)\n",
    "\n",
    "\n",
    "\n",
    "#OUTSIDE WALL\n",
    "#stress inside the wall\n",
    "def stress_bo(mbr) -> float:\n",
    "    \"\"\" Calculates the stress due to bending inside the wall of the tube \"\"\"\n",
    "    return E_Mod * (0.5 * tube_OD) / mbr\n",
    "\n",
    "\n",
    "#hoop stress inside the wall\n",
    "def stress_ho() -> float:\n",
    "    \"\"\" calculates teh hoop stress inside the wall \"\"\"\n",
    "    return (p_i - p_o)*((2.0*tube_ID**2.0) / (tube_OD**2.0 - tube_ID**2.0)) -p_o\n",
    "\n",
    "\n",
    "#radial strees inside the wall\n",
    "def stress_ro() -> float:\n",
    "    \"\"\" Calculates the radial stress inside the wall \"\"\"\n",
    "    return -p_o\n",
    "\n",
    "#total axial stress inside\n",
    "def total_axial_stress_outside(mbr, tens) -> float:\n",
    "    \"\"\" Caculates the total axial stress inside the wall \"\"\"\n",
    "    return stress_aec() + stress_at(tens) + stress_bo(mbr)\n",
    "\n",
    "#equivalent stress inside\n",
    "def stress_eqo(mbr, tens) -> float:\n",
    "    \"\"\" Calculates the inside equivalent stress \"\"\"\n",
    "    return np.sqrt((stress_ho()-total_axial_stress_outside(mbr,tens))**2.0 + (total_axial_stress_outside(mbr,tens)-stress_ro())**2.0 + (stress_ro() - stress_ho())**2.0) / np.sqrt(2.0)\n",
    "\n",
    "#calculate the utilizations\n",
    "def util(mbr,tens, type = 'normal') -> float:\n",
    "    stress = max(stress_eqo(mbr,tens),stress_eqi(mbr,tens))\n",
    "    if type == 'normal':\n",
    "        return stress / SMYS\n",
    "    else:\n",
    "        return stress / (0.8 * SMYS)\n"
   ]
  },
  {
   "cell_type": "code",
   "execution_count": 6,
   "metadata": {},
   "outputs": [
    {
     "name": "stdout",
     "output_type": "stream",
     "text": [
      "[495.9981631907829, 495.9669924904027, 496.0238539097665, 495.9409164999949, 495.96901701811953, 495.9238071295574, 495.8878392220522, 496.4287744506817, 496.21553694695797, 495.9329088127436, 495.60337847512443, 495.72602023357416, 496.2402860361266]\n"
     ]
    }
   ],
   "source": [
    "if __name__ == '__main__':\n",
    "    i_file = open('input_data.csv')\n",
    "    data = i_file.readlines()\n",
    "    i_file.close()\n",
    "\n",
    "    mbr=[]\n",
    "    tens=[]\n",
    "    for line in data[1:]:\n",
    "        mbr.append(float(line.split(',')[0]))\n",
    "        tens.append(float(line.split(',')[1]))\n",
    "\n",
    "    max_stress = [max(stress_eqi(mbr[i],tens[i]),stress_eqo(mbr[i],tens[i])) for i in range(len(mbr))]\n",
    "    print(max_stress)"
   ]
  }
 ],
 "metadata": {
  "kernelspec": {
   "display_name": "Python 3.10.7 64-bit",
   "language": "python",
   "name": "python3"
  },
  "language_info": {
   "codemirror_mode": {
    "name": "ipython",
    "version": 3
   },
   "file_extension": ".py",
   "mimetype": "text/x-python",
   "name": "python",
   "nbconvert_exporter": "python",
   "pygments_lexer": "ipython3",
   "version": "3.10.7"
  },
  "orig_nbformat": 4,
  "vscode": {
   "interpreter": {
    "hash": "7b46740cc4bf9d69c0ab00856700b36123fd0d4beb6377ca8d2604ad9ad274b3"
   }
  }
 },
 "nbformat": 4,
 "nbformat_minor": 2
}
