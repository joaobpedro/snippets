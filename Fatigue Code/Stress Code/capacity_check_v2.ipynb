{
 "cells": [
  {
   "cell_type": "code",
   "execution_count": 3,
   "metadata": {},
   "outputs": [],
   "source": [
    "import pandas as pd\n",
    "from OrcFxAPI import*\n",
    "import numpy as np\n",
    "import matplotlib.pyplot as plt"
   ]
  },
  {
   "cell_type": "code",
   "execution_count": 4,
   "metadata": {},
   "outputs": [
    {
     "name": "stdout",
     "output_type": "stream",
     "text": [
      "[11.8, 12.83, 14.05, 15.54, 17.37, 19.7, 22.75, 26.75, 32.78, 42.37, 59.96, 100.64, 298.25] [0.0, 100.0, 200.0, 300.0, 400.0, 500.0, 600.0, 700.0, 800.0, 900.0, 1000.0, 1100.0, 1200.0]\n"
     ]
    }
   ],
   "source": [
    "#TENSION AND ASSOCIATED MBR CURVE DATA\n",
    "#format 1st line: \"MBR\", \"Tension\"\n",
    "#format 2nd line: mbr_value_1, tension_value_1\n",
    "#format nth line: mbr_value_n, tension_value_n\n",
    "\n",
    "i_file = open('input_data.csv')\n",
    "data = i_file.readlines()\n",
    "i_file.close()\n",
    "\n",
    "mbr=[]\n",
    "tens=[]\n",
    "for line in data[1:]:\n",
    "    mbr.append(float(line.split(',')[0]))\n",
    "    tens.append(float(line.split(',')[1]))\n",
    "\n",
    "print(mbr,tens)"
   ]
  },
  {
   "cell_type": "code",
   "execution_count": 5,
   "metadata": {},
   "outputs": [],
   "source": [
    "#get umbilical information\n",
    "umb_OD = 0.215 #m\n",
    "umb_EA = 773   #MN\n",
    "E_Mod = 200e3 #MPA"
   ]
  },
  {
   "cell_type": "code",
   "execution_count": 6,
   "metadata": {},
   "outputs": [],
   "source": [
    "#get tube data\n",
    "SMYS = 620 #MPa\n",
    "tube_ID = 0.0381 #m\n",
    "wall_thickness = 0.004 #m\n",
    "\n",
    "p_i = 68.9 #MPA\n",
    "p_o = 0.0  #MPA\n",
    "\n",
    "tube_OD = tube_ID + 2.0*wall_thickness"
   ]
  },
  {
   "cell_type": "code",
   "execution_count": 7,
   "metadata": {},
   "outputs": [],
   "source": [
    "#project specific data\n",
    "wd = 1790 #m\n",
    "condition = \"Normal\" #possible values: \"Normal\" or \"Abnormal\"\n",
    "\n",
    "if condition == \"Normal\":\n",
    "    tau = 0.8\n",
    "elif condition == \"Abnormal\":\n",
    "    tau = 1.0"
   ]
  },
  {
   "cell_type": "code",
   "execution_count": 8,
   "metadata": {},
   "outputs": [
    {
     "data": {
      "text/plain": [
       "1.0"
      ]
     },
     "execution_count": 8,
     "metadata": {},
     "output_type": "execute_result"
    }
   ],
   "source": [
    "a = 1.0\n",
    "[a][0]"
   ]
  },
  {
   "cell_type": "code",
   "execution_count": 15,
   "metadata": {},
   "outputs": [
    {
     "data": {
      "text/plain": [
       "[495.9981631907831,\n",
       " 495.9669924904027,\n",
       " 496.0238539097666,\n",
       " 495.9409164999949,\n",
       " 495.96901701811953,\n",
       " 495.9238071295574,\n",
       " 495.8878392220522,\n",
       " 496.4287744506817,\n",
       " 496.21553694695797,\n",
       " 495.9329088127436,\n",
       " 495.60337847512443,\n",
       " 495.72602023357416,\n",
       " 496.2402860361266]"
      ]
     },
     "execution_count": 15,
     "metadata": {},
     "output_type": "execute_result"
    }
   ],
   "source": [
    "#STRESS FUNCTIONS\n",
    "\n",
    "# class stresses:\n",
    "\n",
    "#     def __init__(self):\n",
    "#         mbr = []\n",
    "#         tens = []\n",
    "\n",
    "#     def tube(self,name, p_i, p_o, tube_ID,tube_OD,wall_thickness):\n",
    "#         self.name = name\n",
    "#         self.p_i = p_i\n",
    "#         self.p_o = p_o\n",
    "#         self.tube_ID = tube_ID\n",
    "#         self.tube_OD = tube_OD\n",
    "#         self.wall_thickness = wall_thickness\n",
    "    \n",
    "#     def umb(self, umb_EA, umb_OD, E_Mod):\n",
    "#         self.umb_EA = umb_EA\n",
    "#         self.umb_OD = umb_OD\n",
    "#         self.E_Mod = E_Mod\n",
    "\n",
    "#end cap stress\n",
    "def stress_aec() -> float:\n",
    "    \"\"\" calculates the end cap stress, not dependent on the tension vs MBR values \"\"\"\n",
    "    return ((p_i-p_o)*(tube_OD-2.0*wall_thickness)**2) / (tube_OD**2 - (tube_OD - 2*wall_thickness)**2)\n",
    "\n",
    "\n",
    "#stress due to tensile loads\n",
    "def stress_at(tens) -> list:\n",
    "    \"\"\" calculates the stress due to tensile loads \"\"\"\n",
    "    return [E_Mod * 0.001 * i/umb_EA for i in [tens]]\n",
    "\n",
    "\n",
    "#INSIDE WALL\n",
    "#stress inside the wall\n",
    "def stress_bi(mbr) -> list:\n",
    "    \"\"\" Calculates the stress due to bending inside the wall of the tube \"\"\"\n",
    "    return [E_Mod * ((0.5 * tube_ID) / i) for i in [mbr]]\n",
    "\n",
    "\n",
    "#hoop stress inside the wall\n",
    "def stress_hi() -> float:\n",
    "    \"\"\" calculates teh hoop stress inside the wall \"\"\"\n",
    "    return ((p_i - p_o)*(tube_OD**2.0 + tube_ID**2.0)) / (tube_OD**2.0 - tube_ID**2.0)-p_o\n",
    "\n",
    "#radial strees inside the wall\n",
    "def stress_ri() -> float:\n",
    "    \"\"\" Calculates the radial stress inside the wall \"\"\"\n",
    "    return -p_i\n",
    "\n",
    "#total axial stress inside\n",
    "def total_axial_stress_inside(mbr, tens) -> list:\n",
    "    \"\"\" Caculates the total axial stress inside the wall \"\"\"\n",
    "    return [stress_aec() + stress_at([tens][i])[0] + stress_bi([mbr][i])[0] for i in range(len([tens]))] \n",
    "\n",
    "#equivalent stress inside\n",
    "def stress_eqi(mbr, tens) -> list:\n",
    "    \"\"\" Calculates the inside equivalent stress \"\"\"\n",
    "    return [ np.sqrt((stress_hi()-total_axial_stress_inside(mbr[i],tens[i])[0])**2.0 + (total_axial_stress_inside(mbr[i],tens[i])[0]-stress_ri())**2.0 + (stress_ri() - stress_hi())**2.0) / np.sqrt(2.0) for i in range(len(tens))]\n",
    "\n",
    "stress_eqi(mbr,tens)\n",
    "\n",
    "\n",
    "\n",
    "#OUTSIDE WALL\n",
    "#stress inside the wall\n",
    "def stress_bo(mbr) -> list:\n",
    "    \"\"\" Calculates the stress due to bending inside the wall of the tube \"\"\"\n",
    "    return [E_Mod * ((0.5 * tube_OD) / i) for i in [mbr]]\n",
    "\n",
    "\n",
    "#hoop stress inside the wall\n",
    "def stress_ho() -> float:\n",
    "    \"\"\" calculates teh hoop stress inside the wall \"\"\"\n",
    "    return (p_i - p_o)*((2.0*tube_ID**2.0) / (tube_OD**2.0 - tube_ID**2.0)) -p_o\n",
    "\n",
    "\n",
    "#radial strees inside the wall\n",
    "def stress_ro() -> float:\n",
    "    \"\"\" Calculates the radial stress inside the wall \"\"\"\n",
    "    return -p_o\n",
    "\n",
    "#total axial stress inside\n",
    "def total_axial_stress_outside(mbr, tens) -> list:\n",
    "    \"\"\" Caculates the total axial stress inside the wall \"\"\"\n",
    "    return [stress_aec() + stress_at([tens][i])[0] + stress_bo([mbr][i])[0] for i in range(len([tens]))] \n",
    "\n",
    "#equivalent stress inside\n",
    "def stress_eqo(mbr, tens) -> list:\n",
    "    \"\"\" Calculates the inside equivalent stress \"\"\"\n",
    "    return [ np.sqrt((stress_ho()-total_axial_stress_outside(mbr[i],tens[i])[0])**2.0 + (total_axial_stress_outside(mbr[i],tens[i])[0]-stress_ro())**2.0 + (stress_ro() - stress_ho())**2.0) / np.sqrt(2.0) for i in range(len(tens))]\n",
    "\n",
    "    max(stress_eqo(mbr,tens),stress_eqi(mbr,tens))\n",
    "\n",
    "\n"
   ]
  }
 ],
 "metadata": {
  "kernelspec": {
   "display_name": "Python 3.10.7 64-bit",
   "language": "python",
   "name": "python3"
  },
  "language_info": {
   "codemirror_mode": {
    "name": "ipython",
    "version": 3
   },
   "file_extension": ".py",
   "mimetype": "text/x-python",
   "name": "python",
   "nbconvert_exporter": "python",
   "pygments_lexer": "ipython3",
   "version": "3.10.7"
  },
  "orig_nbformat": 4,
  "vscode": {
   "interpreter": {
    "hash": "7b46740cc4bf9d69c0ab00856700b36123fd0d4beb6377ca8d2604ad9ad274b3"
   }
  }
 },
 "nbformat": 4,
 "nbformat_minor": 2
}
